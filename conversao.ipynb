{
  "nbformat": 4,
  "nbformat_minor": 0,
  "metadata": {
    "colab": {
      "name": "conversao.ipynb",
      "provenance": [],
      "collapsed_sections": [],
      "include_colab_link": true
    },
    "kernelspec": {
      "display_name": "Python 3",
      "language": "python",
      "name": "python3"
    },
    "language_info": {
      "codemirror_mode": {
        "name": "ipython",
        "version": 3
      },
      "file_extension": ".py",
      "mimetype": "text/x-python",
      "name": "python",
      "nbconvert_exporter": "python",
      "pygments_lexer": "ipython3",
      "version": "3.7.3"
    }
  },
  "cells": [
    {
      "cell_type": "markdown",
      "metadata": {
        "id": "view-in-github",
        "colab_type": "text"
      },
      "source": [
        "<a href=\"https://colab.research.google.com/github/gealacoque/Entra21_Georgia/blob/master/conversao.ipynb\" target=\"_parent\"><img src=\"https://colab.research.google.com/assets/colab-badge.svg\" alt=\"Open In Colab\"/></a>"
      ]
    },
    {
      "cell_type": "markdown",
      "metadata": {
        "id": "w5qKgaamgU5x",
        "colab_type": "text"
      },
      "source": [
        "---\n",
        "\n",
        "\n",
        "<h1><b><center>Convertendo Tipos de Variáveis</center></b></h1>\n",
        "\n",
        "\n",
        "---"
      ]
    },
    {
      "cell_type": "markdown",
      "metadata": {
        "id": "QxSOkdvwgU51",
        "colab_type": "text"
      },
      "source": [
        "O input() sempre irá retornar para nós uma string (texto).<br>\n",
        "Porém as vezes precisamos de outros tipos de dados como um inteiro ou um float (ponto flutuante ou real).<br>\n",
        "Para isso devemos usar funções para converter como:<br>\n",
        "- int() para interios\n",
        "- float() para float\n",
        "\n",
        "A escolha vai depender do que você está trabalhando.<br>\n",
        "Exemplo:"
      ]
    },
    {
      "cell_type": "code",
      "metadata": {
        "id": "yOqVC9tcgU54",
        "colab_type": "code",
        "colab": {}
      },
      "source": [
        "# converter variável\n",
        "\n",
        "# de string para inteiro\n",
        "var = '10' # a aspa indica que a variável é do tipo string. \n",
        "var = int(var) # Estou convertendo e salvando na mesma variável\n",
        "\n",
        "# de inteiro para string\n",
        "var = 10\n",
        "var = str(var)\n",
        "\n",
        "# de float para string\n",
        "var = 9.50\n",
        "var = str(var)\n",
        "\n",
        "# de string para float\n",
        "var = '10.75'\n",
        "var = float(var)\n",
        "\n",
        "# de inteiro para float\n",
        "var = 10\n",
        "var = float(var)\n",
        "\n",
        "# de float para inteiro\n",
        "# Ficar atento que esta conversão pega somente a parte inteira do número. A parte depois da virgula é perdida\n",
        "\n",
        "var = 7.85\n",
        "var = int(var)\n",
        "print(var)\n",
        "\n",
        "\n",
        "print('\\n')\n",
        "\n",
        "\n",
        "# pedir 2 números inteiros e fazer a soma deles\n",
        "numero1 = int(input(\"Digite o primeiro número: \"))\n",
        "numero2 = int(input(\"Digite o segundo número: \"))\n",
        "soma = numero1 + numero2\n",
        "print(\"A soma dos números é: \", soma)\n",
        "\n",
        "# pedir 2 número float e somar os dois\n",
        "numero1 = float(input(\"Digite o primeiro número: \"))\n",
        "numero2 = float(input(\"Digite o segundo número: \"))\n",
        "soma = numero1 + numero2\n",
        "print(\"A soma dos números é: \", soma)\n",
        "\n",
        "# em via de regra, usamos o float quando queremos trabalhar com dinheiro, preço, peso, altura...\n",
        "valor = float(input(\"Digite o preço do produto: \"))\n",
        "quantidade = int(input(\"Digite a quantidade de produto que você deseja: \"))\n",
        "preco_total = valor * quantidade\n",
        "print(\"O valor total a ser pago é: \", preco_total)\n"
      ],
      "execution_count": null,
      "outputs": []
    },
    {
      "cell_type": "markdown",
      "metadata": {
        "id": "YTx5cysZgU6J",
        "colab_type": "text"
      },
      "source": [
        "Uma forma de saber que tipo de variável é usando a função type().\n",
        "\n",
        "Exemplo:"
      ]
    },
    {
      "cell_type": "code",
      "metadata": {
        "id": "rDNBb6wbgU6S",
        "colab_type": "code",
        "colab": {}
      },
      "source": [
        "# para descobrir qual o tipo da variável\n",
        "variavel = 10 #inteiro\n",
        "print(\"Inteiro\")\n",
        "print(type(variavel))\n",
        "\n",
        "print('\\n')\n",
        "\n",
        "variavel = 10.0 # float\n",
        "print(\"Float\")\n",
        "print(type(variavel))\n",
        "\n",
        "print('\\n')\n",
        "\n",
        "variavel = '10 abc' # string (texto)\n",
        "print(\"string\")\n",
        "print(type(variavel))\n",
        "\n"
      ],
      "execution_count": null,
      "outputs": []
    },
    {
      "cell_type": "markdown",
      "metadata": {
        "id": "GDwG7jCUgU6e",
        "colab_type": "text"
      },
      "source": [
        "<h1><b>Exercicio 8</b></h1>\n",
        "\n",
        "Converta as seguintes variáveis e imprima na tela o valor e o tipo da variável"
      ]
    },
    {
      "cell_type": "code",
      "metadata": {
        "id": "JP5OKzSFgU6g",
        "colab_type": "code",
        "colab": {
          "base_uri": "https://localhost:8080/",
          "height": 347
        },
        "outputId": "b5a8c4dd-56dd-4115-c053-e4c30c560e27"
      },
      "source": [
        "# 8.1 Para string (exemplo)\n",
        "numero = 10  # variável para conversão\n",
        "\n",
        "numero = str(numero) # convertendo a variável\n",
        "print(numero,type(numero)) # imprimindo na tela o valor e o tipo da variável\n",
        "\n",
        "print('\\n')\n",
        "\n",
        "# 8.2 Para float\n",
        "valor = 8.2\n",
        "valor = float(valor)\n",
        "print(valor, type(valor))\n",
        "\n",
        "\n",
        "print('\\n')\n",
        "\n",
        "# 8.3 Para inteiro\n",
        "inteiro = 8.75\n",
        "inteiro = int(inteiro)\n",
        "print(inteiro, type(inteiro))\n",
        "\n",
        "\n",
        "print('\\n')\n",
        "\n",
        "# 8.4 Para string\n",
        "texto_idade = 9\n",
        "texto_idade = str (texto_idade)\n",
        "print(texto_idade,type(texto_idade))\n",
        "\n",
        "\n",
        "print('\\n')\n",
        "\n",
        "# 8.5 Para float\n",
        "valor = 10\n",
        "valor = float(valor)\n",
        "print(valor, type(valor))\n",
        "\n",
        "\n",
        "print('\\n')\n",
        "\n",
        "# 8.6 Para inteiro\n",
        "idade = 9\n",
        "idade = int(idade)\n",
        "print(idade, type(idade))\n",
        "\n",
        "print('\\n')\n",
        "\n",
        "# 8.7 Para string\n",
        "peso_quilo = 1.755\n",
        "peso_quilo = str(peso_quilo)\n",
        "print(peso_quilo, type(peso_quilo))"
      ],
      "execution_count": 5,
      "outputs": [
        {
          "output_type": "stream",
          "text": [
            "10 <class 'str'>\n",
            "\n",
            "\n",
            "8.2 <class 'float'>\n",
            "\n",
            "\n",
            "8 <class 'int'>\n",
            "\n",
            "\n",
            "9 <class 'str'>\n",
            "\n",
            "\n",
            "10.0 <class 'float'>\n",
            "\n",
            "\n",
            "9 <class 'int'>\n",
            "\n",
            "\n",
            "1.755 <class 'str'>\n"
          ],
          "name": "stdout"
        }
      ]
    },
    {
      "cell_type": "markdown",
      "metadata": {
        "id": "N8P3zaqZgU6n",
        "colab_type": "text"
      },
      "source": [
        "<h1><b>Exercicio 9</b></h1>\n",
        "Faça um programa que peça o nome do cliente, a quantidade do produto (inteiro) e o preço (float).\n",
        "\n",
        "Mostre o nome do cliente e o valor total da venda."
      ]
    },
    {
      "cell_type": "code",
      "metadata": {
        "id": "H6N2ei4AgU6o",
        "colab_type": "code",
        "colab": {
          "base_uri": "https://localhost:8080/",
          "height": 87
        },
        "outputId": "60585447-86d4-4cc3-bd85-93bddc9f4af6"
      },
      "source": [
        "nome = input(\"Digite seu nome: \")\n",
        "qdd_prod = int(input(\"Digite a quatidade do produto que voce deseja comprar: \"))\n",
        "preco = float(input(\"Digite o preço do produto: \"))\n",
        "\n",
        "print(nome,\"$\", qdd_prod*preco)"
      ],
      "execution_count": 3,
      "outputs": [
        {
          "output_type": "stream",
          "text": [
            "Digite seu nome: ana\n",
            "Digite a quatidade do produto que voce deseja comprar: 2\n",
            "Digite o preço do produto: 4\n",
            "ana $ 8.0\n"
          ],
          "name": "stdout"
        }
      ]
    },
    {
      "cell_type": "markdown",
      "metadata": {
        "id": "vgQodHSFgU6t",
        "colab_type": "text"
      },
      "source": [
        "<h1><b>Exercicio 10</b></h1>\n",
        "Faça um programa que peça o nome de 2 produtos, a quantidade comprada de cada produto (inteiro) e o valor (float) de cada um.\n",
        "\n",
        "Mostre o nome a quantidade, preço por unidade e o total de cada produto."
      ]
    },
    {
      "cell_type": "code",
      "metadata": {
        "id": "jZzd8lRggU6v",
        "colab_type": "code",
        "colab": {}
      },
      "source": [
        "produto1 = input(\"Digite o nome do primeiro produto que deseja: \")\n",
        "produto2 = input(\"Digite o nome do segundo produto que deseja: \")\n",
        "qdd1 = int(input(\"Digite a quantidade que voce deseja do primeiro produto: \"))\n",
        "qdd2 = int(input(\"Digite a quantidade que voce deseja do segundo produto: \"))\n",
        "valor1 = float(input(\"Digite o valor do primeiro produto: \"))\n",
        "valor2 = float(input(\"Digite o valor do segundo produto: \"))\n",
        "total1 = (qdd1 * valor1)\n",
        "total2 = (qdd2 * valor2)\n",
        "totalt = (total1 + total2)\n",
        "print ('\\n')\n",
        "print(produto1,\"|\", qdd1,\"unidades\", \"|\", \"valor unitário: $\",valor1,\"|\", \"Valor total do primeiro produto: $\",total1)\n",
        "print(produto2, \"|\", qdd2,\"unidades\",\"|\", \"valor unitário do segundo produto: $\",valor2, \"|\", \"Valor total do segundo produto: $\", total2)\n",
        "print(\"O valor da compra no total é: $\", totalt)"
      ],
      "execution_count": null,
      "outputs": []
    },
    {
      "cell_type": "markdown",
      "metadata": {
        "id": "eUeKQKWlgU6z",
        "colab_type": "text"
      },
      "source": [
        "<h1><b>Exercicio 11</b></h1>\n",
        "Escreva um programa que peça o peso (float) de 3 pessoas e motre na tela a soma de todos os pesos. "
      ]
    },
    {
      "cell_type": "code",
      "metadata": {
        "id": "gMW4y0G5gU60",
        "colab_type": "code",
        "colab": {
          "base_uri": "https://localhost:8080/",
          "height": 121
        },
        "outputId": "1757c2e7-3e28-46a0-87a6-ef3a9665ad03"
      },
      "source": [
        "peso1 = float(input(\"Digite o peso em kg da pessoa 1: \"))\n",
        "peso2 = float(input(\"Digite o peso em kg da pessoa 2: \"))\n",
        "peso3 = float(input(\"Digite o peso em kg da pessoa 3: \"))\n",
        "pesoT = (peso1+peso2+peso3)\n",
        "print('\\n')\n",
        "print(\"A soma do peso das tres pessoas é igual a: \",pesoT,\"Kg\")\n"
      ],
      "execution_count": 10,
      "outputs": [
        {
          "output_type": "stream",
          "text": [
            "Digite o peso em kg da pessoa 1: 54\n",
            "Digite o peso em kg da pessoa 2: 56\n",
            "Digite o peso em kg da pessoa 3: 40\n",
            "\n",
            "\n",
            "A soma do peso das tres pessoas é igual a:  150.0 Kg\n"
          ],
          "name": "stdout"
        }
      ]
    }
  ]
}