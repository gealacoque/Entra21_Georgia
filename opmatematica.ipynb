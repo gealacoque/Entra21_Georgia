{
  "nbformat": 4,
  "nbformat_minor": 0,
  "metadata": {
    "colab": {
      "name": "opmatematica.ipynb",
      "provenance": [],
      "collapsed_sections": [],
      "include_colab_link": true
    },
    "kernelspec": {
      "display_name": "Python 3",
      "language": "python",
      "name": "python3"
    },
    "language_info": {
      "codemirror_mode": {
        "name": "ipython",
        "version": 3
      },
      "file_extension": ".py",
      "mimetype": "text/x-python",
      "name": "python",
      "nbconvert_exporter": "python",
      "pygments_lexer": "ipython3",
      "version": "3.7.3"
    }
  },
  "cells": [
    {
      "cell_type": "markdown",
      "metadata": {
        "id": "view-in-github",
        "colab_type": "text"
      },
      "source": [
        "<a href=\"https://colab.research.google.com/github/gealacoque/Entra21_Georgia/blob/master/opmatematica.ipynb\" target=\"_parent\"><img src=\"https://colab.research.google.com/assets/colab-badge.svg\" alt=\"Open In Colab\"/></a>"
      ]
    },
    {
      "cell_type": "markdown",
      "metadata": {
        "id": "8hUmlv_2waas",
        "colab_type": "text"
      },
      "source": [
        "---\n",
        "\n",
        "\n",
        "<h1><b><center>Operações Matemáticas Básicas</center></b></h1>\n",
        "\n",
        "\n",
        "---"
      ]
    },
    {
      "cell_type": "markdown",
      "metadata": {
        "id": "AIbSe1E4waav",
        "colab_type": "text"
      },
      "source": [
        "O python possui 7 operadores matemáticos. Vamos ver os 5 primeiros.<br>\n",
        "\n",
        "<b>SOMA</b><br>\n",
        "O operado usado para soma é o sinal de mais \\+<br>\n",
        "2 \\+ 2 \\= 4<br>\n",
        "\n",
        "<b>Subtração</b><br>\n",
        "O operador para subtração é o sinal de menos \\-<br>\n",
        "5 \\- 3 \\= 2<br>\n",
        "\n",
        "<b>Divizão</b><br>\n",
        "O operador para divizão é a barra \\/<br>\n",
        "10 \\/ 2 \\= 10<br>\n",
        "\n",
        "<b>Multiplicação</b><br>\n",
        "O operador para multiplicação é o asterisco \\*<br>\n",
        "2 \\* 5 \\= 10<br>\n",
        "Quando aparecer a seguinte situação:<br> 2x <br>isso é a mesma coisa que:<br> 2*x<br>\n",
        "\n",
        "<b>Expoente</b><br>\n",
        "Você se lemba o que é um expoente?<br>\n",
        "O expoente é uma conta matemática em que o primeiro número multiplica por ele mesmo uma quantidade de vezes.<br>\n",
        "Exempo é o 4² (lea-se 4 elevado a 2 ou 4 ao quadrado)<br>\n",
        "4² -> 4 \\* 4 \\= 16<br>\n",
        "4³ -> 4 \\* 4 \\* 4 \\= 64<br>\n",
        "O operador para o expoente são dois asteriscos \\*\\*<br>\n",
        "4² -> 4 \\*\\* 2 \\= 16<br>\n",
        "4³ -> 4 \\*\\* 3 \\= 64\n",
        "\n"
      ]
    },
    {
      "cell_type": "code",
      "metadata": {
        "id": "KZLEYNsywaaz",
        "colab_type": "code",
        "colab": {}
      },
      "source": [
        "# exemplo de soma:\n",
        "numero1 = int(input(\"Digite o primeiro número: \"))\n",
        "numero2 = int(input(\"Digite o segundo número: \"))\n",
        "soma = numero1 + numero2\n",
        "print(\"A soma dos números é: \", soma)\n",
        "\n",
        "print(\"\\n\")\n",
        "\n",
        "# exemplo de multiplicação:\n",
        "valor = float(input(\"Digite o preço do produto: \"))\n",
        "quantidade = int(input(\"Digite a quantidade de produto que você deseja: \"))\n",
        "preco_total = valor * quantidade\n",
        "print(\"O valor total a ser pago é: \", preco_total)\n",
        "\n",
        "print('\\n')\n",
        "\n",
        "# exemplo de divisão\n",
        "quantidade = int(input(\"Digite a quantidade de laranjas que você tem: \"))\n",
        "pessoas = int(input(\"Digite a quantidade de pessoas: \"))\n",
        "divisao = quantidade / pessoas\n",
        "print(\"Cada pessoa deve ficar com \", divisao, \" laranjas\")\n",
        "\n",
        "# exemplo de subtração\n",
        "predio_alto = float(input(\"Digite o tamanho do prédio alto: \"))\n",
        "predio_baixo = float(input(\"Digite o tamanho do prédio baixo: \"))\n",
        "diferenca = predio_alto - predio_baixo\n",
        "print(\"O prédio mais alto \", diferenca, \" metros mais alto que o prédio baixo\")\n",
        "\n",
        "# exemplo de expoente\n",
        "numero = int(input(\"Digite o número para ser elevado ao quadrado: \"))\n",
        "quadrado = numero ** 2\n",
        "print(\"O quadrado de \", numero, \" é: \",quadrado)\n"
      ],
      "execution_count": null,
      "outputs": []
    },
    {
      "cell_type": "markdown",
      "metadata": {
        "id": "qTZ_a3Z4wabB",
        "colab_type": "text"
      },
      "source": [
        "<h1><b>Exercicio 12</b></h1>\n",
        "\n",
        "Crie um program que peça ao usuário que digite 2 números reias(float) e mostre:\n",
        "\n",
        "A soma dos dois<br>\n",
        "A multiplicação dos dois<br>\n",
        "A divisão do primeiro com o segundo<br>\n",
        "A subtração dos dois<br>"
      ]
    },
    {
      "cell_type": "code",
      "metadata": {
        "id": "VbQjen-dwabD",
        "colab_type": "code",
        "colab": {}
      },
      "source": [
        "num1 = float(input(\"Digite o primeiro numero: \"))\n",
        "num2 = float(input(\"Digite o segundo numero: \"))\n",
        "soma = (num1 + num2)\n",
        "mult = (num1*num2)\n",
        "div = (num1/num2)\n",
        "subt = (num1-num2)\n",
        "print(\"A soma dos dois numeros digitados é: \", soma)\n",
        "print(\"A multiplicação dos dois numeros digitados é: \", mult)\n",
        "print(\"A divisão dos dois numeros digitados é: \", div)\n",
        "print(\"A subtração dos dois numeros digitados é: \", subt)"
      ],
      "execution_count": null,
      "outputs": []
    },
    {
      "cell_type": "markdown",
      "metadata": {
        "id": "nRJFirgswabS",
        "colab_type": "text"
      },
      "source": [
        "<h1><b>Exercicio 13</b></h1>\n",
        "Crie um programa que solicite o valor de x (inteiro)\n",
        "\n",
        "calcule usando a fórmula x+3\n",
        "\n",
        "mostre o resultado"
      ]
    },
    {
      "cell_type": "code",
      "metadata": {
        "id": "S3cRzgyMwabU",
        "colab_type": "code",
        "colab": {}
      },
      "source": [
        "x = int(input(\"Digite um valor para x: \"))\n",
        "result = (x + 3)\n",
        "print(\"O resultado da formula x+3 é igual a: \", result)"
      ],
      "execution_count": null,
      "outputs": []
    },
    {
      "cell_type": "markdown",
      "metadata": {
        "id": "oOXv65Cwwabk",
        "colab_type": "text"
      },
      "source": [
        "<h1><b>Exercicio 14</b></h1>\n",
        "Crie um programa que solicite o valor de x (inteiro)\n",
        "\n",
        "calcule usando a fórmula 2x+3\n",
        "\n",
        "mostre o resultado"
      ]
    },
    {
      "cell_type": "code",
      "metadata": {
        "id": "iksmXIehwabm",
        "colab_type": "code",
        "colab": {}
      },
      "source": [
        "x = int(input(\"Digite um valor para x: \"))\n",
        "result = (2*x + 3)\n",
        "print(\"O resultado da fórmula 2x+3 é igual a: \", result)"
      ],
      "execution_count": null,
      "outputs": []
    },
    {
      "cell_type": "markdown",
      "metadata": {
        "id": "EDnRtOarwab1",
        "colab_type": "text"
      },
      "source": [
        "<h1><b>Exercicio 15</b></h1>\n",
        "Crie um programa que solicite o valor de x (inteiro)\n",
        "\n",
        "calcule usando a fórmula 3x-x+3\n",
        "\n",
        "mostre o resultado"
      ]
    },
    {
      "cell_type": "code",
      "metadata": {
        "id": "QvgzrI01wab3",
        "colab_type": "code",
        "colab": {}
      },
      "source": [
        "x = int(input(\"Digite um valor para x: \"))\n",
        "result = (3*x-x+3)\n",
        "print(\"O resultado da fórmula 3x-x+3 é igual a: \", result)"
      ],
      "execution_count": null,
      "outputs": []
    },
    {
      "cell_type": "markdown",
      "metadata": {
        "id": "n58PscAtwacF",
        "colab_type": "text"
      },
      "source": [
        "<h1><b>Exercicio 16</b></h1>\n",
        "Foi verificado que a venda de bermudas aumenta conforme aumenta a temperatura (t) (float) conforme a seguinte fórmula:\n",
        "\n",
        "bermudas = 1.5t + t + 150\n",
        "\n",
        "Lembrando que o t significa temperatura.\n",
        "\n",
        "Faça um programa para o seu superior que peça a temperatura e mostre a venda prevista de bermudas."
      ]
    },
    {
      "cell_type": "code",
      "metadata": {
        "id": "RRWc5IvIwacH",
        "colab_type": "code",
        "colab": {}
      },
      "source": [
        "temp = float(input(\"Digite a temperatura: \"))\n",
        "venda_prevista = (1.5*temp + temp + 150)\n",
        "print(\"A venda prevista de bermudas com a temperatura digitada é: \", venda_prevista)"
      ],
      "execution_count": null,
      "outputs": []
    },
    {
      "cell_type": "markdown",
      "metadata": {
        "id": "T_gKNo3kwacS",
        "colab_type": "text"
      },
      "source": [
        "<h1><b>Exercicio 17</b></h1>\n",
        "A formula de calculo de área de um circulo é:\n",
        "\n",
        "area = pi*r²\n",
        "\n",
        "Sabemos que:\n",
        "\n",
        "pi = 3.14<br>\n",
        "r = raio da circunferência em metros (float)\n",
        "\n",
        "Crie um programa que peça ao usuário o raio e calcule a área da circunferência\n"
      ]
    },
    {
      "cell_type": "code",
      "metadata": {
        "id": "XB1CAJ09wacT",
        "colab_type": "code",
        "colab": {}
      },
      "source": [
        "raio = float(input(\"Digite o valor do raio da circunferencia em metros: \"))\n",
        "area = (3.14*raio**2)\n",
        "print(\"A area da circunferencia é igual a: \", area)"
      ],
      "execution_count": null,
      "outputs": []
    },
    {
      "cell_type": "markdown",
      "metadata": {
        "id": "a51OxXunwacZ",
        "colab_type": "text"
      },
      "source": [
        "<h1><b>Exercicio 18</b></h1>\n",
        "Crie um programa que solicite o valores (inteiros) de a, b e c para o cálculo do delta\n",
        "\n",
        "A fórmula do delta é:\n",
        "\n",
        "delta = b²-4ac\n",
        "\n",
        "após calcular, mostre o resultado na tela."
      ]
    },
    {
      "cell_type": "code",
      "metadata": {
        "id": "bf6b5-N8waca",
        "colab_type": "code",
        "colab": {}
      },
      "source": [
        "a = int(input(\"Digite o valor de a: \"))\n",
        "b = int(input(\"Digite o valor de b: \"))\n",
        "c = int(input(\"Digite o avlor de c: \"))\n",
        "delta = (b**2-4*a*c)\n",
        "print(\"O resultado do delta é: \", delta)"
      ],
      "execution_count": null,
      "outputs": []
    },
    {
      "cell_type": "markdown",
      "metadata": {
        "id": "ybusAiIowacg",
        "colab_type": "text"
      },
      "source": [
        "<h1><b>Exercicio 19</b></h1>\n",
        "Para calcular o valor do empréstimo usa-se a seguinte fórmula:\n",
        "\n",
        "valor_receber \\= dinheiro_emprestado\\*(1\\+(taxa_juros\\/100))\\*\\*tempo_emprestimo\n",
        "\n",
        "<b>Sendo que:</b><br>\n",
        "valor_receber (float) -> É o valor que você deve receber de volta. Este valor é sempre maior que o valor emprestado.<br>\n",
        "dinheiro_emprestado (float) -> É o valor que você está emprestando.<br>\n",
        "taxa_juros (float) -> Essa é a taxa de juros em porcentagem que irá ser aplicado no valor emprestado todo o mês aumentando o valor a receber<br>\n",
        "tempo_emprestimo (inteiro) -> É o tempo que vai demorar para voê receber o dinheiro de volta.\n",
        "\n",
        "Se você emprestou R$150.00 por 3 mêses a uma taxa de 4.5 porcento ao mês, você deve fazer a seguinte conta:<br>\n",
        "valor_receber \\= 150\\*(1\\+(4.5\\/100))\\*\\*3<br>\n",
        "o resultado deve ser: 171.17491874999996\n",
        "\n",
        "\n",
        "Crie um programa que calcule o emprestimo de R$250.00 a uma taxa de 5.5 porcento ao mês. O programa deve pedir ao usuário que digite quantos mêses deve durar o empréstimo e mostre na tela o valor a ser recebido.\n",
        "\n",
        "\n",
        "\n"
      ]
    },
    {
      "cell_type": "code",
      "metadata": {
        "id": "ppBvkdNYwach",
        "colab_type": "code",
        "colab": {}
      },
      "source": [
        "tempo_emprestimo = int(input(\"Digite por quanto tempo vai demorar para receber o dinheiro de volta em meses: \"))\n",
        "valor_receber = (250*(1+(5.5/100))**tempo_emprestimo)\n",
        "print(\"O valor a ser recebido desse emprestimo é: \", valor_receber)"
      ],
      "execution_count": null,
      "outputs": []
    },
    {
      "cell_type": "markdown",
      "metadata": {
        "id": "NfEqN3gUwacn",
        "colab_type": "text"
      },
      "source": [
        "<h1><b>Exercicio 20</b></h1>\n",
        "Usando a seguinte fórmula:\n",
        "\n",
        "valor_receber \\= dinheiro_emprestado\\*(1\\+(taxa_juros\\/100))\\*\\*tempo_emprestimo\n",
        "\n",
        "Crie um programa que solicite ao usuário o valor do dinheiro emprestado, a taxa de juros em porcentagem e o tempo do empréstimo.\n",
        "\n",
        "Mostre na telas o valor do dinheiro emprestado, a taxa de juros em porcentagem, tempo do empréstimo e o valor que deve ser devolvido no final do empréstimo."
      ]
    },
    {
      "cell_type": "code",
      "metadata": {
        "id": "uA7PzN8Zwaco",
        "colab_type": "code",
        "colab": {}
      },
      "source": [
        "valor_emprest = float(input(\"Digite o valor emprestado: \"))\n",
        "taxa_juros = float(input(\"Digite a taxa de juros em porcentagem: \"))\n",
        "tempo_emprest = int(input(\"Digite quantos tempo vai demorar para receber o dinheiro de volta em meses: \"))\n",
        "valor_receber = (valor_emprest*(1+(taxa_juros/100))**tempo_emprest)\n",
        "print(\"O valor a receber é igual a: \", valor_receber)"
      ],
      "execution_count": null,
      "outputs": []
    }
  ]
}