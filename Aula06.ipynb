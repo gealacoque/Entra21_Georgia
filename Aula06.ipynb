{
  "nbformat": 4,
  "nbformat_minor": 0,
  "metadata": {
    "colab": {
      "name": "Aula06.ipynb",
      "provenance": [],
      "include_colab_link": true
    },
    "kernelspec": {
      "name": "python3",
      "display_name": "Python 3"
    }
  },
  "cells": [
    {
      "cell_type": "markdown",
      "metadata": {
        "id": "view-in-github",
        "colab_type": "text"
      },
      "source": [
        "<a href=\"https://colab.research.google.com/github/gealacoque/Entra21_Georgia/blob/master/Aula06.ipynb\" target=\"_parent\"><img src=\"https://colab.research.google.com/assets/colab-badge.svg\" alt=\"Open In Colab\"/></a>"
      ]
    },
    {
      "cell_type": "markdown",
      "metadata": {
        "id": "QSJRa4ACyCga",
        "colab_type": "text"
      },
      "source": [
        "<h1><b>Execicios 01</b></h1>\n",
        "\n",
        "Escreva um programa que calcule a porcentagem de comissão de vendedores com as seguintes condições\n",
        "\n",
        "Venda Total<br>\n",
        "de R\\$ 0.00 a R\\$ 30000.00 - 0%<br>\n",
        "de R\\$ 30000.01 a R\\$ 50000.00 - 1.5%<br>\n",
        "de R\\$ 50000.01 a R\\$ 100000.00 - 2.5%<br>\n",
        "Acima de R\\$ 100000.00 - 3.5%<br>"
      ]
    },
    {
      "cell_type": "code",
      "metadata": {
        "id": "P9bKKl88xGKO",
        "colab_type": "code",
        "colab": {}
      },
      "source": [
        "venda = float(input(\"Digite o valor da venda: \"))\n",
        "\n",
        "if venda >= 0 and venda <= 30000:\n",
        "    print(\"Sem comissão.\")\n",
        "elif venda >= 30000.01 and venda <= 50000.00:\n",
        "    comissao = venda * (1.5/100)\n",
        "    print(\"A comissão será: \", comissao)\n",
        "elif venda >= 50000.01 and venda <= 100000.00:\n",
        "    comissao = venda * (2.5/100)\n",
        "    print(\"A comissão será: \", comissao)\n",
        "elif venda > 100000.00:\n",
        "    comissao = venda * (3.5/100)\n",
        "    print(\"A comissão será: \", comissao)"
      ],
      "execution_count": null,
      "outputs": []
    },
    {
      "cell_type": "markdown",
      "metadata": {
        "id": "F1E1QY3kySyI",
        "colab_type": "text"
      },
      "source": [
        "<h1><b>Execicios 02</b></h1>\n",
        "\n",
        "Escreva um programa que receba 4 notas e calcule a média.<br>\n",
        "Mostre a seguinte mensagem conforme a media final.\n",
        "\n",
        "Media Final<br>\n",
        "de 0 a 5 - Reprovado<br>\n",
        "de 5 a 6.5 - Recuperação<br>\n",
        "de 6.5 a 9 - Aprovado<br>\n",
        "Acima de 9 - Aprovado com louvor<br>"
      ]
    },
    {
      "cell_type": "code",
      "metadata": {
        "id": "442L8_lHy80J",
        "colab_type": "code",
        "colab": {}
      },
      "source": [
        "nota1 = float(input(\"Digite a primeria nota: \"))\n",
        "nota2 = float(input(\"Digite a segunda nota: \"))\n",
        "nota3 = float(input(\"Digite a terceira nota: \"))\n",
        "nota4 = float(input(\"Digite a quarta nota: \"))\n",
        "media = ((nota1 + nota2 + nota3 + nota4) / 4)\n",
        "if media > 0 and media < 5:\n",
        "    print (\"Reprovado\")\n",
        "elif media >= 5 and media < 6.5:\n",
        "    print (\"Recuperação\")\n",
        "elif media >= 6.5 and media < 9:\n",
        "    print (\"Aprovado\")\n",
        "elif media > 9:\n",
        "    print(\"Aprovado com louvor\")"
      ],
      "execution_count": null,
      "outputs": []
    },
    {
      "cell_type": "markdown",
      "metadata": {
        "id": "wjVlXRF2y9qj",
        "colab_type": "text"
      },
      "source": [
        "<h1><b>Execicios 03</b></h1>\n",
        "\n",
        "Escreva um programa que contenha um menu com 4 opções:<br>\n",
        "A) soma<br>\n",
        "B) média<br>\n",
        "C) divisão<br>\n",
        "D) Sair<br>\n",
        "\n",
        "As opções podem ser escolhidas com as letras maiusculas ou minusculas.\n",
        "\n",
        "Para a opção soma, deve solicitar 2 números, fazer a soma e mostrar o resultado.\n",
        "\n",
        "Para a opção média, deve solicitar 4 números, fazer a média e mostrar os resultados.\n",
        "\n",
        "Para a opção divisão, deve solicitar 2 números, dividir o primeiro pelo segundo e montrar o resultado. Caso o segundo for igual a 0, então deve mostrar o a mensagem \"Erro! Não pode dividir por ZERO!\"\n",
        "\n",
        "Para a opção sair, deve aparecer a mensagem: \"Muito Obrigado e Volte sempre!\"\n"
      ]
    },
    {
      "cell_type": "code",
      "metadata": {
        "id": "51J1OiFu1buY",
        "colab_type": "code",
        "colab": {}
      },
      "source": [
        "print(\"\"\"Escolha uma operação matemática:\n",
        "A) Soma\n",
        "B) Média\n",
        "C) Divisão\n",
        "D) Sair\n",
        "\"\"\")\n",
        "opcao = str(input(\"Digite a opção desejada: \"))\n",
        "\n",
        "if opcao == 'A' or opcao == 'a':\n",
        "    num1 = float(input(\"Digite um número: \"))\n",
        "    num2 = float(input(\"Digite outro número: \"))\n",
        "    soma = (num1 + num2)\n",
        "    print (\"A soma dos número digitados é \", soma)\n",
        "\n",
        "elif opcao == 'B' or opcao == 'b':\n",
        "    num1 = float (input(\"Digite o primeiro numero: \"))\n",
        "    num2 = float (input(\"Digite o segundo numero: \"))\n",
        "    num3 = float (input(\"Digite o terceiro numero: \"))\n",
        "    num4 = float (input(\"Digite o quarto numero: \"))\n",
        "    media = ((num1 + num2 + num3 + num4) / 4)\n",
        "    print(\"A média dos números digitados é \", media)\n",
        "\n",
        "elif opcao == 'C' or opcao == 'c':\n",
        "    num1 = float(input(\"Digite um número: \"))\n",
        "    num2 = float(input(\"Digite outro número: \"))\n",
        "    if (num2 == 0):\n",
        "        print(\"Erro! Não pode dividir por ZERO!\")\n",
        "    else:\n",
        "        div = num1/num2\n",
        "        print(\"A divisão dos números digitados é \", div)\n",
        "\n",
        "elif opcao == 'D' or opcao == 'd':\n",
        "    print(\"Muito obrigada e volte sempre!\")"
      ],
      "execution_count": null,
      "outputs": []
    },
    {
      "cell_type": "markdown",
      "metadata": {
        "id": "1dW6_7Jg1caw",
        "colab_type": "text"
      },
      "source": [
        "<h1><b>Execicios 04</b></h1>\n",
        "<br> Exercicio retirado do site <\\https://wiki.python.org.br/EstruturaDeDecisao\\>\n",
        "\n",
        "Faça um Programa que peça os 3 lados de um triângulo. O programa deverá informar se os valores podem ser um triângulo. Indique, caso os lados formem um triângulo, se o mesmo é: equilátero, isósceles ou escaleno.\n",
        "Dicas:\n",
        "\n",
        "Três lados formam um triângulo quando a soma de quaisquer dois lados for maior que o terceiro;\n",
        "\n",
        "Triângulo Equilátero: três lados iguais;\n",
        "\n",
        "Triângulo Isósceles: quaisquer dois lados iguais;\n",
        "\n",
        "Triângulo Escaleno: três lados diferentes;"
      ]
    },
    {
      "cell_type": "code",
      "metadata": {
        "id": "X8hFBzp71kix",
        "colab_type": "code",
        "colab": {}
      },
      "source": [
        "lado1 = input(\"Digite o valor do primeiro lado do tringulo: \")\n",
        "lado2 = input(\"Digite o valor do segundo lado do tringulo: \")\n",
        "lado3 = input(\"Digite o valor do terceiro lado do tringulo: \")\n",
        "if lado1 + lado2 > lado3 or lado1 + lado3 > lado2 or lado2 + lado3 > lado1:\n",
        "    if lado1 == lado2 and lado1 == lado3:\n",
        "        print(\"Triangulo equilatero\")\n",
        "    elif lado1 == lado2 or lado2 == lado3 or lado1 == lado3:\n",
        "        print(\"Triangulo isosceles\")\n",
        "    elif lado1 != lado2 and lado1 != lado3:\n",
        "        print(\"Triangulo escaleno\")\n",
        "else:\n",
        "    print(\"Não é um triangulo.\")"
      ],
      "execution_count": null,
      "outputs": []
    }
  ]
}