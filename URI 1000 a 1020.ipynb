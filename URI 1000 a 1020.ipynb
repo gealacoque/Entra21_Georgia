{
  "nbformat": 4,
  "nbformat_minor": 0,
  "metadata": {
    "colab": {
      "name": "Cópia de Untitled1.ipynb",
      "provenance": [],
      "collapsed_sections": [],
      "authorship_tag": "ABX9TyN01vfHsC750+LfUJS/9jQx",
      "include_colab_link": true
    },
    "kernelspec": {
      "name": "python3",
      "display_name": "Python 3"
    }
  },
  "cells": [
    {
      "cell_type": "markdown",
      "metadata": {
        "id": "view-in-github",
        "colab_type": "text"
      },
      "source": [
        "<a href=\"https://colab.research.google.com/github/gealacoque/Entra21_Georgia/blob/master/URI%201000%20a%201020.ipynb\" target=\"_parent\"><img src=\"https://colab.research.google.com/assets/colab-badge.svg\" alt=\"Open In Colab\"/></a>"
      ]
    },
    {
      "cell_type": "code",
      "metadata": {
        "id": "veiFNokM4sL0",
        "colab_type": "code",
        "colab": {
          "base_uri": "https://localhost:8080/",
          "height": 35
        },
        "outputId": "a78017d5-6341-46a6-bc32-c06b9510e21c"
      },
      "source": [
        "# URI 1000\n",
        "print(\"Hello World!\")\n"
      ],
      "execution_count": 1,
      "outputs": [
        {
          "output_type": "stream",
          "text": [
            "Hello World!\n"
          ],
          "name": "stdout"
        }
      ]
    },
    {
      "cell_type": "code",
      "metadata": {
        "id": "TixtBJUa4-en",
        "colab_type": "code",
        "colab": {}
      },
      "source": [
        "# URI 1001\n",
        "A=int(input())\n",
        "B=int(input())\n",
        "X=A+B\n",
        "print(\"X = {}\" .format(X))\n"
      ],
      "execution_count": null,
      "outputs": []
    },
    {
      "cell_type": "code",
      "metadata": {
        "id": "bhIkbFUgfmA8",
        "colab_type": "code",
        "colab": {}
      },
      "source": [
        "# URI 1002\n",
        "raio=float(input())\n",
        "pi=3.14159\n",
        "area=pi*raio**2\n",
        "print('A={:.4f}'.format(area))\n"
      ],
      "execution_count": null,
      "outputs": []
    },
    {
      "cell_type": "code",
      "metadata": {
        "id": "DGeHe-rl4-jb",
        "colab_type": "code",
        "colab": {}
      },
      "source": [
        "# URI 1003\n",
        "A=int(input())\n",
        "B=int(input())\n",
        "SOMA=A+B\n",
        "print(\"SOMA = {}\" .format(SOMA))\n"
      ],
      "execution_count": null,
      "outputs": []
    },
    {
      "cell_type": "code",
      "metadata": {
        "id": "v7eVJ5rN5_XI",
        "colab_type": "code",
        "colab": {}
      },
      "source": [
        "#URI 1004\n",
        "valor1=int(input())\n",
        "valor2=int(input())\n",
        "PROD=valor1*valor2\n",
        "print(\"PROD  = {}\" .format(PROD))\n"
      ],
      "execution_count": null,
      "outputs": []
    },
    {
      "cell_type": "code",
      "metadata": {
        "id": "7JW41eTp6ZeK",
        "colab_type": "code",
        "colab": {}
      },
      "source": [
        "# URI 1005\n",
        "A=float(input())\n",
        "B=float(input())\n",
        "MEDIA=((A*3.5)+(B*7.5))/11\n",
        "print(\"MEDIA = {:.5f}\" .format(MEDIA))\n"
      ],
      "execution_count": null,
      "outputs": []
    },
    {
      "cell_type": "code",
      "metadata": {
        "id": "-TGSfPPsAq8w",
        "colab_type": "code",
        "colab": {}
      },
      "source": [
        "# URI 1006\n",
        "A=float(input())\n",
        "B=float(input())\n",
        "C=float(input())\n",
        "MEDIA=((A*2)+(B*3)+(C*5))/10\n",
        "print(\"MEDIA = {:.1f}\" .format(MEDIA))\n"
      ],
      "execution_count": null,
      "outputs": []
    },
    {
      "cell_type": "code",
      "metadata": {
        "id": "stZb2sovRQq9",
        "colab_type": "code",
        "colab": {}
      },
      "source": [
        "# URI 1007\n",
        "A=int(input())\n",
        "B=int(input())\n",
        "C=int(input())\n",
        "D=int(input())\n",
        "DIFERENCA = (A*B-C*D)\n",
        "print(\"DIFERENCA = {}\" .format(DIFERENCA))\n"
      ],
      "execution_count": null,
      "outputs": []
    },
    {
      "cell_type": "code",
      "metadata": {
        "id": "kjqmRd-RRRwi",
        "colab_type": "code",
        "colab": {}
      },
      "source": [
        "# URI 1008\n",
        "NUM=int(input())\n",
        "HORAS=int(input())\n",
        "SAL_HORA=float(input())\n",
        "SALARIO=HORAS*SAL_HORA\n",
        "print(\"NUMBER = {}\" .format(NUM))\n",
        "print(\"SALARY = U$ {:.2F}\" .format(SALARIO))\n"
      ],
      "execution_count": null,
      "outputs": []
    },
    {
      "cell_type": "code",
      "metadata": {
        "id": "ZyvBHwjeVAFn",
        "colab_type": "code",
        "colab": {}
      },
      "source": [
        "# URI 1009\n",
        "NOME=input()\n",
        "SAL_FIXO=float(input())\n",
        "TOT_VENDAS=float(input())\n",
        "COMISSAO=TOT_VENDAS*0.15\n",
        "SAL_TOTAL=COMISSAO+SAL_FIXO\n",
        "print(\"TOTAL = R$ {:.2f}\" .format(SAL_TOTAL))\n"
      ],
      "execution_count": null,
      "outputs": []
    },
    {
      "cell_type": "code",
      "metadata": {
        "id": "mexZhqrtVDDQ",
        "colab_type": "code",
        "colab": {}
      },
      "source": [
        "# URI 1010 \n",
        "c1, n1, v1 = input().split()\n",
        "c2, n2, v2 = input().split()\n",
        "total = int(n1) * float(v1) + int(n2) * float(v2)\n",
        "print(\"VALOR A PAGAR: R$ {:.2f}\" .format(total))\n"
      ],
      "execution_count": null,
      "outputs": []
    },
    {
      "cell_type": "code",
      "metadata": {
        "id": "QJvEVD7Fzr9R",
        "colab_type": "code",
        "colab": {}
      },
      "source": [
        "# URI 1011\n",
        "raio=float(input())\n",
        "pi=3.14159\n",
        "VOLUME=(4.0/3)*pi*raio**3\n",
        "print(\"VOLUME = {:.3f}\" .format(VOLUME))\n"
      ],
      "execution_count": null,
      "outputs": []
    },
    {
      "cell_type": "code",
      "metadata": {
        "id": "NBiy1PQPzxau",
        "colab_type": "code",
        "colab": {}
      },
      "source": [
        "# URI 1012\n",
        "A, B, C = input().split(\" \")\n",
        "A=float(A)\n",
        "B=float(B)\n",
        "C=float(C)\n",
        "TRI=(A*C)/2\n",
        "CIR=3.14159*C**2\n",
        "TRA=((A+B)*C)/2\n",
        "QUA=B*B\n",
        "RET=A*B\n",
        "print(\"\"\"TRIANGULO: {:.3f}\n",
        "CIRCULO: {:.3f}\n",
        "TRAPEZIO: {:.3f}\n",
        "QUADRADO: {:.3f}\n",
        "RETANGULO: {:.3f}\"\"\" .format(TRI, CIR, TRA, QUA, RET))\n"
      ],
      "execution_count": null,
      "outputs": []
    },
    {
      "cell_type": "code",
      "metadata": {
        "id": "n4XESC9QRVu9",
        "colab_type": "code",
        "colab": {}
      },
      "source": [
        "# URI 1013\n",
        "a, b, c = input().split()\n",
        "a = int(a)\n",
        "b = int(b)\n",
        "c = int(c)\n",
        "maiorAB = (a+b+abs(a-b))/2\n",
        "maiorABC = int((maiorAB+c+abs(maiorAB-c))/2)\n",
        "print(\"{} eh o maior\" .format(maiorABC))\n"
      ],
      "execution_count": null,
      "outputs": []
    },
    {
      "cell_type": "code",
      "metadata": {
        "id": "mqgiPm5jz6iw",
        "colab_type": "code",
        "colab": {}
      },
      "source": [
        "# URI 1014\n",
        "X = int(input())\n",
        "Y = float(input())\n",
        "consumo = X / Y\n",
        "print(\"{:.3f} km/l\" .format(consumo))\n"
      ],
      "execution_count": null,
      "outputs": []
    },
    {
      "cell_type": "code",
      "metadata": {
        "id": "eB5D7lveQHfY",
        "colab_type": "code",
        "colab": {}
      },
      "source": [
        "# URI 1015\n",
        "x1, y1 = input().split()\n",
        "x2, y2 = input().split()\n",
        "x1 = float(x1)\n",
        "x2 = float(x2)\n",
        "y1 = float(y1)\n",
        "y2 = float(y2)\n",
        "dist = ((x2-x1)**2+(y2-y1)**2)**(1/2)\n",
        "print(\"{:.4f}\" .format(dist))\n"
      ],
      "execution_count": null,
      "outputs": []
    },
    {
      "cell_type": "code",
      "metadata": {
        "id": "iLf-czNiRfXX",
        "colab_type": "code",
        "colab": {}
      },
      "source": [
        "# URI 1016\n",
        "dist = int(input())\n",
        "tempo = dist*2\n",
        "print(\"{} minutos\" .format(tempo))\n"
      ],
      "execution_count": null,
      "outputs": []
    },
    {
      "cell_type": "code",
      "metadata": {
        "id": "GXPrL5eST3jW",
        "colab_type": "code",
        "colab": {}
      },
      "source": [
        "# URI 1017\n",
        "tempo = int(input())\n",
        "vel = int(input())\n",
        "dist = vel * tempo\n",
        "litros = dist / 12\n",
        "print('{:.3f}' .format(litros))\n"
      ],
      "execution_count": null,
      "outputs": []
    },
    {
      "cell_type": "code",
      "metadata": {
        "id": "zPAWd9wuVDTM",
        "colab_type": "code",
        "colab": {}
      },
      "source": [
        "# URI 1018\n",
        "val = int(input())\n",
        "print(val)\n",
        "a=val//100\n",
        "val=val-a*100\n",
        "b=val//50\n",
        "val=val-b*50\n",
        "c=val//20\n",
        "val=val-c*20\n",
        "d=val//10\n",
        "val=val-d*10\n",
        "e=val//5\n",
        "val=val-e*5\n",
        "f=val//2\n",
        "val=val-f*2\n",
        "g=val//1\n",
        "val=val-g*1\n",
        "print(\"{} nota(s) de R$ 100,00\" .format(a))\n",
        "print(\"{} nota(s) de R$ 50,00\" .format(b))\n",
        "print(\"{} nota(s) de R$ 20,00\" .format(c))\n",
        "print(\"{} nota(s) de R$ 10,00\" .format(d))\n",
        "print(\"{} nota(s) de R$ 5,00\" .format(e))\n",
        "print(\"{} nota(s) de R$ 2,00\" .format(f))\n",
        "print(\"{} nota(s) de R$ 1,00\" .format(g))\n"
      ],
      "execution_count": null,
      "outputs": []
    },
    {
      "cell_type": "code",
      "metadata": {
        "id": "ezEfOSa_cmdz",
        "colab_type": "code",
        "colab": {}
      },
      "source": [
        "# URI 1019\n",
        "seg = int(input())\n",
        "horas = seg // 3600\n",
        "seg = seg % 3600\n",
        "min = seg // 60\n",
        "seg = seg % 60\n",
        "print(\"{}:{}:{}\" .format(horas, min, seg))\n"
      ],
      "execution_count": null,
      "outputs": []
    },
    {
      "cell_type": "code",
      "metadata": {
        "id": "SqMHsnH-u1vs",
        "colab_type": "code",
        "colab": {}
      },
      "source": [
        "# URI 1020\n",
        "id = int(input())\n",
        "anos = id // 365\n",
        "id = id % 365\n",
        "meses = id // 30\n",
        "id = id % 30\n",
        "print(\"\"\"{} ano(s)\n",
        "{} mes(es)\n",
        "{} dia(s)\"\"\" .format(anos, meses, dias))\n",
        "print(\"{} mes(es)\" .format(meses))\n",
        "print(\"{} dia(s)\" .format(id))\n"
      ],
      "execution_count": null,
      "outputs": []
    },
    {
      "cell_type": "code",
      "metadata": {
        "id": "rky18hy2dzsz",
        "colab_type": "code",
        "colab": {}
      },
      "source": [
        "\n"
      ],
      "execution_count": null,
      "outputs": []
    }
  ]
}