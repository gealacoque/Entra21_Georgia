{
  "nbformat": 4,
  "nbformat_minor": 0,
  "metadata": {
    "colab": {
      "name": "Cópia de print.ipynb",
      "provenance": [],
      "collapsed_sections": [],
      "include_colab_link": true
    },
    "kernelspec": {
      "display_name": "Python 3",
      "language": "python",
      "name": "python3"
    },
    "language_info": {
      "codemirror_mode": {
        "name": "ipython",
        "version": 3
      },
      "file_extension": ".py",
      "mimetype": "text/x-python",
      "name": "python",
      "nbconvert_exporter": "python",
      "pygments_lexer": "ipython3",
      "version": "3.7.3"
    }
  },
  "cells": [
    {
      "cell_type": "markdown",
      "metadata": {
        "id": "view-in-github",
        "colab_type": "text"
      },
      "source": [
        "<a href=\"https://colab.research.google.com/github/gealacoque/Entra21_Georgia/blob/master/print.ipynb\" target=\"_parent\"><img src=\"https://colab.research.google.com/assets/colab-badge.svg\" alt=\"Open In Colab\"/></a>"
      ]
    },
    {
      "cell_type": "markdown",
      "metadata": {
        "colab_type": "text",
        "id": "bmvLG6WPxIsj"
      },
      "source": [
        "\n",
        "\n",
        "---\n",
        "\n",
        "\n",
        "<h1><b><center>Uso do print()</center></b></h1>\n",
        "\n",
        "\n",
        "---\n",
        "\n"
      ]
    },
    {
      "cell_type": "markdown",
      "metadata": {
        "id": "gO4IkP3TYiIA",
        "colab_type": "text"
      },
      "source": [
        "A função print() mostra na tela uma mensagem ou o valor das variáveis.<br>\n",
        "Assim é só colocar uma variavel dentro do print() ou uma string (texto) desta forma:"
      ]
    },
    {
      "cell_type": "code",
      "metadata": {
        "id": "OdyWY-0IYiIC",
        "colab_type": "code",
        "colab": {},
        "outputId": "7be555a8-2345-4035-ebfa-84a701827daa"
      },
      "source": [
        "# Com um uma string (texto)\n",
        "print(\"Sejam bem vindos ao nosso sistema de cadastro de pessoas\")\n",
        "# lembrando que as string devem ser representadas com aspas simples '' ou duplas \"\"\n",
        "\n",
        "\n",
        "# Podemos usar caracteres de escape para pular uma linha\n",
        "print(\"\\n\")\n",
        "\n",
        "# Com uma variável\n",
        "nome = 'Julio'\n",
        "print(\"Seja bem vindo \", nome)\n",
        "\n",
        "print(\"\\n\")\n",
        "\n",
        "# Pode ser colocado uma operação matemática dentro dela\n",
        "print(\"A soma de 1+2 é: \", 1+2)\n",
        "\n",
        "\n",
        "print(\"\\n\")\n",
        "\n",
        "# Ou até fazer esta operação usando variaveis\n",
        "valor = 5.50\n",
        "quantidade = 10\n",
        "print(\"Preço total é: \",valor*quantidade)\n",
        "\n",
        "print(\"\\n\")\n",
        "\n",
        "# Porém o melhor mesmo é fazer desta forma:\n",
        "valor = 5.50\n",
        "quantidade = 10\n",
        "total = valor*quantidade\n",
        "print(\"Preço total é: \",total)\n",
        "\n",
        "print(\"\\n\")\n",
        "\n",
        "# Para mostrar um texto com mais linhas, podemos usar as 3 aspas \"\"\" \"\"\" desta forma:\n",
        "print(\"\"\"\n",
        "Oi\n",
        "Meu nome\n",
        "é\n",
        "Pedro\n",
        "\"\"\")"
      ],
      "execution_count": null,
      "outputs": [
        {
          "output_type": "stream",
          "text": [
            "Sejam bem vindos ao nosso sistema de cadastro de pessoas\n",
            "\n",
            "\n",
            "Seja bem vindo  Julio\n",
            "\n",
            "\n",
            "A soma de 1+2 é:  3\n",
            "\n",
            "\n",
            "Preço total é:  55.0\n",
            "\n",
            "\n",
            "Preço total é:  55.0\n",
            "\n",
            "\n",
            "\n",
            "Oi\n",
            "Meu nome\n",
            "é\n",
            "Pedro\n",
            "\n"
          ],
          "name": "stdout"
        }
      ]
    },
    {
      "cell_type": "markdown",
      "metadata": {
        "colab_type": "text",
        "id": "rCR6FuXyvS26"
      },
      "source": [
        "<h1><b>Exercicio 1</b></h1>\n",
        "\n",
        "Imprima seu nome completo e idade cada um em uma nova linha "
      ]
    },
    {
      "cell_type": "code",
      "metadata": {
        "colab_type": "code",
        "id": "JBZDvTNHvQTp",
        "colab": {
          "base_uri": "https://localhost:8080/",
          "height": 52
        },
        "outputId": "39fa15bd-8c90-4c2c-8a4f-2262d68a327b"
      },
      "source": [
        "Nome = 'Geórgia Laura Ribeiro Alacoque Vieira'\n",
        "print (\"Meu nome completo é\", Nome)\n",
        "idade= '18 anos' \n",
        "print (\"Eu tenho\", idade)"
      ],
      "execution_count": null,
      "outputs": [
        {
          "output_type": "stream",
          "text": [
            "Meu nome completo é Geórgia Laura Ribeiro Alacoque Vieira\n",
            "Eu tenho 18 anos\n"
          ],
          "name": "stdout"
        }
      ]
    },
    {
      "cell_type": "markdown",
      "metadata": {
        "colab_type": "text",
        "id": "xcqnCVapv3sU"
      },
      "source": [
        "<h1><b>Exercicio 2</b></h1>\n",
        "\n",
        "Imprima o menu de uma aplicação de cadastro de pessoas\n",
        "\n",
        "O menu deve conter as opções de Cadastrar, Alterar, listar pessoas, alem da opção sair"
      ]
    },
    {
      "cell_type": "code",
      "metadata": {
        "colab_type": "code",
        "id": "oKyMrtXGvSlB",
        "colab": {
          "base_uri": "https://localhost:8080/",
          "height": 121
        },
        "outputId": "de73fa3d-01df-48a5-f4d8-dd31c1b4ebbc"
      },
      "source": [
        "print (\"\"\"\n",
        "Cadastrar \n",
        "Alterar \n",
        "Listar pessoas \n",
        "Sair \n",
        "\"\"\")"
      ],
      "execution_count": null,
      "outputs": [
        {
          "output_type": "stream",
          "text": [
            "\n",
            "Cadastrar \n",
            "Alterar \n",
            "Listar pessoas \n",
            "Sair \n",
            "\n"
          ],
          "name": "stdout"
        }
      ]
    },
    {
      "cell_type": "markdown",
      "metadata": {
        "id": "HYkTeG69YiIx",
        "colab_type": "text"
      },
      "source": [
        "<h1><b>Exercicio 3</b></h1>\n",
        "\n",
        "Crie 3 variáveis\n",
        "\n",
        "Cada variável deve conter um número\n",
        "\n",
        "Imprima na tela a soma dos 3 números"
      ]
    },
    {
      "cell_type": "code",
      "metadata": {
        "id": "lVYJqvNGYiIz",
        "colab_type": "code",
        "colab": {
          "base_uri": "https://localhost:8080/",
          "height": 35
        },
        "outputId": "3ee25df3-5ded-44e3-9735-b5dd572135d0"
      },
      "source": [
        "num1 = 6\n",
        "num2 = 5\n",
        "num3 = 9\n",
        "total = num1+num2+num3\n",
        "print (\"A soma dos três números é igual a\", total)"
      ],
      "execution_count": null,
      "outputs": [
        {
          "output_type": "stream",
          "text": [
            "A soma dos três números é igual a 20\n"
          ],
          "name": "stdout"
        }
      ]
    },
    {
      "cell_type": "markdown",
      "metadata": {
        "id": "sl-x36BBYiI9",
        "colab_type": "text"
      },
      "source": [
        "<h1><b>Exercicio 4</b></h1>\n",
        "\n",
        "Imprima na tela uma mensagem de boas vindas"
      ]
    },
    {
      "cell_type": "code",
      "metadata": {
        "id": "nfoC6YcvYiI_",
        "colab_type": "code",
        "colab": {
          "base_uri": "https://localhost:8080/",
          "height": 35
        },
        "outputId": "aaef77c9-346c-474e-a00b-9333825b4af1"
      },
      "source": [
        "print (\"Olá, seja bem vindo a mais uma aula do curso de Phyton\")"
      ],
      "execution_count": null,
      "outputs": [
        {
          "output_type": "stream",
          "text": [
            "Olá, seja bem vindo a mais uma aula do curso de Phyton\n"
          ],
          "name": "stdout"
        }
      ]
    }
  ]
}