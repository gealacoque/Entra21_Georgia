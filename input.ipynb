{
  "nbformat": 4,
  "nbformat_minor": 0,
  "metadata": {
    "colab": {
      "name": "Cópia de input.ipynb",
      "provenance": [],
      "collapsed_sections": [],
      "include_colab_link": true
    },
    "kernelspec": {
      "display_name": "Python 3",
      "language": "python",
      "name": "python3"
    },
    "language_info": {
      "codemirror_mode": {
        "name": "ipython",
        "version": 3
      },
      "file_extension": ".py",
      "mimetype": "text/x-python",
      "name": "python",
      "nbconvert_exporter": "python",
      "pygments_lexer": "ipython3",
      "version": "3.7.3"
    }
  },
  "cells": [
    {
      "cell_type": "markdown",
      "metadata": {
        "id": "view-in-github",
        "colab_type": "text"
      },
      "source": [
        "<a href=\"https://colab.research.google.com/github/gealacoque/Entra21_Georgia/blob/master/input.ipynb\" target=\"_parent\"><img src=\"https://colab.research.google.com/assets/colab-badge.svg\" alt=\"Open In Colab\"/></a>"
      ]
    },
    {
      "cell_type": "markdown",
      "metadata": {
        "id": "zKp-BIl_fjuz",
        "colab_type": "text"
      },
      "source": [
        "\n",
        "\n",
        "---\n",
        "\n",
        "\n",
        "<h1><b><center>Uso do input()</center></b></h1>\n",
        "\n",
        "\n",
        "---\n",
        "\n"
      ]
    },
    {
      "cell_type": "markdown",
      "metadata": {
        "id": "879ReMJJfju6",
        "colab_type": "text"
      },
      "source": [
        "A função input() serve para receber um valor pelo teclado.<br>\n",
        "Ele poder mostrar uma mensagem para o usuário.<br>\n",
        "Não se esqueça de usar uma variável para guardar o valor que o usuário digitou."
      ]
    },
    {
      "cell_type": "code",
      "metadata": {
        "id": "w5P_IAgIfju-",
        "colab_type": "code",
        "colab": {}
      },
      "source": [
        "# Solicitando um nome para o usuário\n",
        "\n",
        "nome = input(\"Digite o seu nome: \")\n",
        "\n",
        "# É importante sempre ter uma variável para receber o valor do input(), caso contrário o valor será perdido!\n",
        "# Como salvamos o que o usuário escreveu, fica fácil trabalhar com a variável...\n",
        "\n",
        "print(\"Olá \", nome)\n"
      ],
      "execution_count": null,
      "outputs": []
    },
    {
      "cell_type": "markdown",
      "metadata": {
        "id": "ylw3flXrfjvQ",
        "colab_type": "text"
      },
      "source": [
        "<h1><b>Exercicio 5</b></h1>\n",
        "\n",
        "Faça um programa que peça o nome do cliente e depois mostre uma mensagem de boas vindas.\n"
      ]
    },
    {
      "cell_type": "code",
      "metadata": {
        "id": "9m9pPfjyfjvT",
        "colab_type": "code",
        "colab": {}
      },
      "source": [
        "nome = input(\"Digite seu nome: \")\n",
        "print(\"Olá,\", nome, \". Seja bem vindo a mais uma aula de python!\")"
      ],
      "execution_count": null,
      "outputs": []
    },
    {
      "cell_type": "markdown",
      "metadata": {
        "id": "i_SYORtbfjvj",
        "colab_type": "text"
      },
      "source": [
        "<h1><b>Exercicio 6</b></h1>\n",
        "\n",
        "Escreva um programa que peça o nome e a idade do cliente.\n",
        "\n",
        "Depois mostre uma mensagem com o nome e a idade do cliente dando boas vindas."
      ]
    },
    {
      "cell_type": "code",
      "metadata": {
        "id": "Fi_CPFYrfjvl",
        "colab_type": "code",
        "colab": {}
      },
      "source": [
        "nome = input(\"Digite seu nome: \")\n",
        "idade = input(\"Digite sua idade: \")\n",
        "print(\"Olá,\", nome, idade,\"anos. Seja muito bem vindo(a)!\")"
      ],
      "execution_count": null,
      "outputs": []
    },
    {
      "cell_type": "markdown",
      "metadata": {
        "id": "AuETSTgOfjvz",
        "colab_type": "text"
      },
      "source": [
        "<h1><b>Exercicio 7</b></h1>\n",
        "Escreva um programa que peça o nome e o sobrenome do cliente e mostre na tela um em cada linha.\n"
      ]
    },
    {
      "cell_type": "code",
      "metadata": {
        "id": "25UfDU1ifjv2",
        "colab_type": "code",
        "colab": {}
      },
      "source": [
        "nome = input(\"Digite seu nome:\")\n",
        "sobrenome = input (\"Digite seu sobrenome: \")\n",
        "print (nome)\n",
        "print (sobrenome)"
      ],
      "execution_count": null,
      "outputs": []
    }
  ]
}